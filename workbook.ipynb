{
 "cells": [
  {
   "cell_type": "code",
   "execution_count": 1,
   "id": "d7093da9",
   "metadata": {},
   "outputs": [
    {
     "name": "stdout",
     "output_type": "stream",
     "text": [
      "The Zen of Python, by Tim Peters\n",
      "\n",
      "Beautiful is better than ugly.\n",
      "Explicit is better than implicit.\n",
      "Simple is better than complex.\n",
      "Complex is better than complicated.\n",
      "Flat is better than nested.\n",
      "Sparse is better than dense.\n",
      "Readability counts.\n",
      "Special cases aren't special enough to break the rules.\n",
      "Although practicality beats purity.\n",
      "Errors should never pass silently.\n",
      "Unless explicitly silenced.\n",
      "In the face of ambiguity, refuse the temptation to guess.\n",
      "There should be one-- and preferably only one --obvious way to do it.\n",
      "Although that way may not be obvious at first unless you're Dutch.\n",
      "Now is better than never.\n",
      "Although never is often better than *right* now.\n",
      "If the implementation is hard to explain, it's a bad idea.\n",
      "If the implementation is easy to explain, it may be a good idea.\n",
      "Namespaces are one honking great idea -- let's do more of those!\n"
     ]
    }
   ],
   "source": [
    "import this"
   ]
  },
  {
   "cell_type": "code",
   "execution_count": null,
   "id": "5405418b",
   "metadata": {},
   "outputs": [],
   "source": []
  },
  {
   "cell_type": "code",
   "execution_count": 2,
   "id": "32e6a242",
   "metadata": {},
   "outputs": [],
   "source": [
    "class Car:\n",
    "    __slots__ = (\"make\", \"model\", \"year\", \"color\", \"started\", \"speed\", \"max_speed\")\n",
    "    total_cars = 0\n",
    "    def __init__(self, make, model, year, color):\n",
    "        self.make = make\n",
    "        self.model = model\n",
    "        self.year = year\n",
    "        self.color = color\n",
    "        self.started = False\n",
    "        self.speed = 0\n",
    "        self.max_speed = 200\n",
    "        type(self).total_cars += 1\n",
    "\n",
    "    def start(self):\n",
    "        if not self.started:\n",
    "            self.started = True\n",
    "            print(f\"{self.make} {self.model} started.\")\n",
    "        else:\n",
    "            print(f\"{self.make} {self.model} is already running.\")\n",
    "\n",
    "    def stop(self):\n",
    "        if self.started:\n",
    "            self.started = False\n",
    "            self.speed = 0\n",
    "            print(f\"{self.make} {self.model} stopped.\")\n",
    "        else:\n",
    "            print(f\"{self.make} {self.model} is already off.\")\n",
    "\n",
    "    def accelerate(self, amount):\n",
    "        if self.started:\n",
    "            self.speed = min(self.speed + amount, self.max_speed)\n",
    "            print(f\"{self.make} {self.model} accelerated to {self.speed} km/h.\")\n",
    "        else:\n",
    "            print(\"Start the car first!\")\n",
    "\n",
    "    def brake(self, amount):\n",
    "        if self.started:\n",
    "            self.speed = max(self.speed - amount, 0)\n",
    "            print(f\"{self.make} {self.model} slowed down to {self.speed} km/h.\")\n",
    "        else:\n",
    "            print(\"Car is not moving.\")\n",
    "\n",
    "    def __str__(self):\n",
    "        return f\"{self.year} {self.color} {self.make} {self.model} (Speed: {self.speed} km/h)\"\n"
   ]
  },
  {
   "cell_type": "code",
   "execution_count": 3,
   "id": "ce8cfb0b",
   "metadata": {},
   "outputs": [],
   "source": [
    "car1 = Car(\"Toyota\", \"Camry\", 2020, \"Red\")\n",
    "car2 = Car(\"Honda\", \"Civic\", 2019, \"Blue\")\n",
    "car3 = Car(\"Ford\", \"Mustang\", 2021, \"Green\")"
   ]
  },
  {
   "cell_type": "code",
   "execution_count": 4,
   "id": "ae7b6769",
   "metadata": {},
   "outputs": [
    {
     "data": {
      "text/plain": [
       "mappingproxy({'__module__': '__main__',\n",
       "              '__slots__': ('make',\n",
       "               'model',\n",
       "               'year',\n",
       "               'color',\n",
       "               'started',\n",
       "               'speed',\n",
       "               'max_speed'),\n",
       "              'total_cars': 3,\n",
       "              '__init__': <function __main__.Car.__init__(self, make, model, year, color)>,\n",
       "              'start': <function __main__.Car.start(self)>,\n",
       "              'stop': <function __main__.Car.stop(self)>,\n",
       "              'accelerate': <function __main__.Car.accelerate(self, amount)>,\n",
       "              'brake': <function __main__.Car.brake(self, amount)>,\n",
       "              '__str__': <function __main__.Car.__str__(self)>,\n",
       "              'color': <member 'color' of 'Car' objects>,\n",
       "              'make': <member 'make' of 'Car' objects>,\n",
       "              'max_speed': <member 'max_speed' of 'Car' objects>,\n",
       "              'model': <member 'model' of 'Car' objects>,\n",
       "              'speed': <member 'speed' of 'Car' objects>,\n",
       "              'started': <member 'started' of 'Car' objects>,\n",
       "              'year': <member 'year' of 'Car' objects>,\n",
       "              '__doc__': None})"
      ]
     },
     "execution_count": 4,
     "metadata": {},
     "output_type": "execute_result"
    }
   ],
   "source": [
    "Car.__dict__"
   ]
  },
  {
   "cell_type": "code",
   "execution_count": 5,
   "id": "c824f0d7",
   "metadata": {},
   "outputs": [
    {
     "data": {
      "text/plain": [
       "('make', 'model', 'year', 'color', 'started', 'speed', 'max_speed')"
      ]
     },
     "execution_count": 5,
     "metadata": {},
     "output_type": "execute_result"
    }
   ],
   "source": [
    "car1.__slots__"
   ]
  },
  {
   "cell_type": "code",
   "execution_count": 6,
   "id": "7f667cc5",
   "metadata": {},
   "outputs": [
    {
     "data": {
      "text/plain": [
       "3"
      ]
     },
     "execution_count": 6,
     "metadata": {},
     "output_type": "execute_result"
    }
   ],
   "source": [
    "car1.total_cars"
   ]
  },
  {
   "cell_type": "code",
   "execution_count": 7,
   "id": "6d5a5714",
   "metadata": {},
   "outputs": [
    {
     "data": {
      "text/plain": [
       "4"
      ]
     },
     "execution_count": 7,
     "metadata": {},
     "output_type": "execute_result"
    }
   ],
   "source": [
    "car4 = Car(\"Chevrolet\", \"Malibu\", 2022, \"Black\")\n",
    "car4.total_cars"
   ]
  },
  {
   "cell_type": "code",
   "execution_count": 22,
   "id": "635e7ad5",
   "metadata": {},
   "outputs": [
    {
     "data": {
      "text/plain": [
       "(False, False)"
      ]
     },
     "execution_count": 22,
     "metadata": {},
     "output_type": "execute_result"
    }
   ],
   "source": [
    "carA = Car(\"Chevrolet\", \"Malibu\", 2022, \"Black\")\n",
    "carB = Car(\"Chevrolet\", \"Malibu\", 2022, \"Black\")\n",
    "carA is carB, carA == carB"
   ]
  },
  {
   "cell_type": "code",
   "execution_count": null,
   "id": "8c41346e",
   "metadata": {},
   "outputs": [],
   "source": []
  },
  {
   "cell_type": "code",
   "execution_count": 8,
   "id": "f055c3ed",
   "metadata": {},
   "outputs": [],
   "source": [
    "import math\n",
    "\n",
    "class Circle:\n",
    "    def __init__(self, radius: int | float):\n",
    "        self.radius = radius\n",
    "\n",
    "    @property\n",
    "    def radius(self):\n",
    "        return self._radius\n",
    "\n",
    "    @radius.setter\n",
    "    def radius(self, value: int | float):\n",
    "        if (not isinstance(value, (int, float))) or (value <= 0):\n",
    "            raise ValueError(\"positive number expected\")\n",
    "        self._radius = value\n",
    "\n",
    "    def calculate_area(self):\n",
    "        return math.pi * self.radius**2"
   ]
  },
  {
   "cell_type": "code",
   "execution_count": 9,
   "id": "92cb8492",
   "metadata": {},
   "outputs": [
    {
     "data": {
      "text/plain": [
       "(6.9, 149.57122623741006)"
      ]
     },
     "execution_count": 9,
     "metadata": {},
     "output_type": "execute_result"
    }
   ],
   "source": [
    "circle1 = Circle(6.9)\n",
    "circle1.radius, circle1.calculate_area()"
   ]
  },
  {
   "cell_type": "code",
   "execution_count": null,
   "id": "0f8fdc15",
   "metadata": {},
   "outputs": [],
   "source": []
  },
  {
   "cell_type": "code",
   "execution_count": null,
   "id": "06189acc",
   "metadata": {},
   "outputs": [],
   "source": []
  },
  {
   "cell_type": "code",
   "execution_count": null,
   "id": "d90e727f",
   "metadata": {},
   "outputs": [],
   "source": []
  }
 ],
 "metadata": {
  "kernelspec": {
   "display_name": ".venv",
   "language": "python",
   "name": "python3"
  },
  "language_info": {
   "codemirror_mode": {
    "name": "ipython",
    "version": 3
   },
   "file_extension": ".py",
   "mimetype": "text/x-python",
   "name": "python",
   "nbconvert_exporter": "python",
   "pygments_lexer": "ipython3",
   "version": "3.10.18"
  }
 },
 "nbformat": 4,
 "nbformat_minor": 5
}
