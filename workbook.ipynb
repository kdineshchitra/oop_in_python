{
 "cells": [
  {
   "cell_type": "code",
   "execution_count": 1,
   "id": "d7093da9",
   "metadata": {},
   "outputs": [
    {
     "name": "stdout",
     "output_type": "stream",
     "text": [
      "The Zen of Python, by Tim Peters\n",
      "\n",
      "Beautiful is better than ugly.\n",
      "Explicit is better than implicit.\n",
      "Simple is better than complex.\n",
      "Complex is better than complicated.\n",
      "Flat is better than nested.\n",
      "Sparse is better than dense.\n",
      "Readability counts.\n",
      "Special cases aren't special enough to break the rules.\n",
      "Although practicality beats purity.\n",
      "Errors should never pass silently.\n",
      "Unless explicitly silenced.\n",
      "In the face of ambiguity, refuse the temptation to guess.\n",
      "There should be one-- and preferably only one --obvious way to do it.\n",
      "Although that way may not be obvious at first unless you're Dutch.\n",
      "Now is better than never.\n",
      "Although never is often better than *right* now.\n",
      "If the implementation is hard to explain, it's a bad idea.\n",
      "If the implementation is easy to explain, it may be a good idea.\n",
      "Namespaces are one honking great idea -- let's do more of those!\n"
     ]
    }
   ],
   "source": [
    "import this"
   ]
  },
  {
   "cell_type": "code",
   "execution_count": null,
   "id": "5405418b",
   "metadata": {},
   "outputs": [],
   "source": []
  },
  {
   "cell_type": "code",
   "execution_count": 2,
   "id": "32e6a242",
   "metadata": {},
   "outputs": [],
   "source": [
    "class Car:\n",
    "    __slots__ = (\"make\", \"model\", \"year\", \"color\", \"started\", \"speed\", \"max_speed\")\n",
    "    total_cars = 0\n",
    "    def __init__(self, make, model, year, color):\n",
    "        self.make = make\n",
    "        self.model = model\n",
    "        self.year = year\n",
    "        self.color = color\n",
    "        self.started = False\n",
    "        self.speed = 0\n",
    "        self.max_speed = 200\n",
    "        type(self).total_cars += 1\n",
    "\n",
    "    def start(self):\n",
    "        if not self.started:\n",
    "            self.started = True\n",
    "            print(f\"{self.make} {self.model} started.\")\n",
    "        else:\n",
    "            print(f\"{self.make} {self.model} is already running.\")\n",
    "\n",
    "    def stop(self):\n",
    "        if self.started:\n",
    "            self.started = False\n",
    "            self.speed = 0\n",
    "            print(f\"{self.make} {self.model} stopped.\")\n",
    "        else:\n",
    "            print(f\"{self.make} {self.model} is already off.\")\n",
    "\n",
    "    def accelerate(self, amount):\n",
    "        if self.started:\n",
    "            self.speed = min(self.speed + amount, self.max_speed)\n",
    "            print(f\"{self.make} {self.model} accelerated to {self.speed} km/h.\")\n",
    "        else:\n",
    "            print(\"Start the car first!\")\n",
    "\n",
    "    def brake(self, amount):\n",
    "        if self.started:\n",
    "            self.speed = max(self.speed - amount, 0)\n",
    "            print(f\"{self.make} {self.model} slowed down to {self.speed} km/h.\")\n",
    "        else:\n",
    "            print(\"Car is not moving.\")\n",
    "\n",
    "    def __str__(self):\n",
    "        return f\"{self.year} {self.color} {self.make} {self.model} (Speed: {self.speed} km/h)\"\n"
   ]
  },
  {
   "cell_type": "code",
   "execution_count": 3,
   "id": "ce8cfb0b",
   "metadata": {},
   "outputs": [],
   "source": [
    "car1 = Car(\"Toyota\", \"Camry\", 2020, \"Red\")\n",
    "car2 = Car(\"Honda\", \"Civic\", 2019, \"Blue\")\n",
    "car3 = Car(\"Ford\", \"Mustang\", 2021, \"Green\")"
   ]
  },
  {
   "cell_type": "code",
   "execution_count": 4,
   "id": "ae7b6769",
   "metadata": {},
   "outputs": [
    {
     "data": {
      "text/plain": [
       "mappingproxy({'__module__': '__main__',\n",
       "              '__slots__': ('make',\n",
       "               'model',\n",
       "               'year',\n",
       "               'color',\n",
       "               'started',\n",
       "               'speed',\n",
       "               'max_speed'),\n",
       "              'total_cars': 3,\n",
       "              '__init__': <function __main__.Car.__init__(self, make, model, year, color)>,\n",
       "              'start': <function __main__.Car.start(self)>,\n",
       "              'stop': <function __main__.Car.stop(self)>,\n",
       "              'accelerate': <function __main__.Car.accelerate(self, amount)>,\n",
       "              'brake': <function __main__.Car.brake(self, amount)>,\n",
       "              '__str__': <function __main__.Car.__str__(self)>,\n",
       "              'color': <member 'color' of 'Car' objects>,\n",
       "              'make': <member 'make' of 'Car' objects>,\n",
       "              'max_speed': <member 'max_speed' of 'Car' objects>,\n",
       "              'model': <member 'model' of 'Car' objects>,\n",
       "              'speed': <member 'speed' of 'Car' objects>,\n",
       "              'started': <member 'started' of 'Car' objects>,\n",
       "              'year': <member 'year' of 'Car' objects>,\n",
       "              '__doc__': None})"
      ]
     },
     "execution_count": 4,
     "metadata": {},
     "output_type": "execute_result"
    }
   ],
   "source": [
    "Car.__dict__"
   ]
  },
  {
   "cell_type": "code",
   "execution_count": 5,
   "id": "c824f0d7",
   "metadata": {},
   "outputs": [
    {
     "data": {
      "text/plain": [
       "('make', 'model', 'year', 'color', 'started', 'speed', 'max_speed')"
      ]
     },
     "execution_count": 5,
     "metadata": {},
     "output_type": "execute_result"
    }
   ],
   "source": [
    "car1.__slots__"
   ]
  },
  {
   "cell_type": "code",
   "execution_count": 6,
   "id": "7f667cc5",
   "metadata": {},
   "outputs": [
    {
     "data": {
      "text/plain": [
       "3"
      ]
     },
     "execution_count": 6,
     "metadata": {},
     "output_type": "execute_result"
    }
   ],
   "source": [
    "car1.total_cars"
   ]
  },
  {
   "cell_type": "code",
   "execution_count": 7,
   "id": "6d5a5714",
   "metadata": {},
   "outputs": [
    {
     "data": {
      "text/plain": [
       "4"
      ]
     },
     "execution_count": 7,
     "metadata": {},
     "output_type": "execute_result"
    }
   ],
   "source": [
    "car4 = Car(\"Chevrolet\", \"Malibu\", 2022, \"Black\")\n",
    "car4.total_cars"
   ]
  },
  {
   "cell_type": "code",
   "execution_count": 8,
   "id": "635e7ad5",
   "metadata": {},
   "outputs": [
    {
     "data": {
      "text/plain": [
       "(False, False)"
      ]
     },
     "execution_count": 8,
     "metadata": {},
     "output_type": "execute_result"
    }
   ],
   "source": [
    "carA = Car(\"Chevrolet\", \"Malibu\", 2022, \"Black\")\n",
    "carB = Car(\"Chevrolet\", \"Malibu\", 2022, \"Black\")\n",
    "carA is carB, carA == carB"
   ]
  },
  {
   "cell_type": "code",
   "execution_count": null,
   "id": "861c3b9a",
   "metadata": {},
   "outputs": [],
   "source": []
  },
  {
   "cell_type": "code",
   "execution_count": 9,
   "id": "f055c3ed",
   "metadata": {},
   "outputs": [],
   "source": [
    "import math\n",
    "\n",
    "class Circle:\n",
    "    def __init__(self, radius: int | float):\n",
    "        self.radius = radius\n",
    "\n",
    "    @property\n",
    "    def radius(self):\n",
    "        return self._radius\n",
    "\n",
    "    @radius.setter\n",
    "    def radius(self, value: int | float):\n",
    "        if (not isinstance(value, (int, float))) or (value <= 0):\n",
    "            raise ValueError(\"positive number expected\")\n",
    "        self._radius = value\n",
    "\n",
    "    def calculate_area(self):\n",
    "        return math.pi * self.radius**2\n",
    "    \n",
    "    def __repr__(self):\n",
    "        return f\"{type(self).__name__}(radius={self.radius})\"\n",
    "    \n",
    "    def __str__(self):\n",
    "        return f\"Circle with radius: {self.radius} units, area: {self.calculate_area():.2f} unit²\"\n",
    "    \n",
    "    @classmethod\n",
    "    def from_diameter(cls, diameter: int | float):\n",
    "        print(cls, type(cls))\n",
    "        if (not isinstance(diameter, (int, float))) or (diameter <= 0):\n",
    "            raise ValueError(\"positive number expected\")\n",
    "        radius = diameter / 2\n",
    "        return cls(radius)"
   ]
  },
  {
   "cell_type": "code",
   "execution_count": 10,
   "id": "92cb8492",
   "metadata": {},
   "outputs": [
    {
     "data": {
      "text/plain": [
       "(6.9, 149.57122623741006)"
      ]
     },
     "execution_count": 10,
     "metadata": {},
     "output_type": "execute_result"
    }
   ],
   "source": [
    "circle1 = Circle(6.9)\n",
    "circle1.radius, circle1.calculate_area()"
   ]
  },
  {
   "cell_type": "code",
   "execution_count": 11,
   "id": "0f8fdc15",
   "metadata": {},
   "outputs": [
    {
     "data": {
      "text/plain": [
       "('Circle(radius=6.9)',\n",
       " Circle(radius=6.9),\n",
       " 'Circle with radius: 6.9 units, area: 149.57 unit²')"
      ]
     },
     "execution_count": 11,
     "metadata": {},
     "output_type": "execute_result"
    }
   ],
   "source": [
    "repr(circle1), circle1, str(circle1)"
   ]
  },
  {
   "cell_type": "code",
   "execution_count": 12,
   "id": "0c625101",
   "metadata": {},
   "outputs": [
    {
     "name": "stdout",
     "output_type": "stream",
     "text": [
      "<class '__main__.Circle'> <class 'type'>\n"
     ]
    },
    {
     "data": {
      "text/plain": [
       "(6.9, 149.57122623741006)"
      ]
     },
     "execution_count": 12,
     "metadata": {},
     "output_type": "execute_result"
    }
   ],
   "source": [
    "circle2 = Circle.from_diameter(13.8)\n",
    "circle2.radius, circle2.calculate_area()"
   ]
  },
  {
   "cell_type": "code",
   "execution_count": 13,
   "id": "b378bcd3",
   "metadata": {},
   "outputs": [
    {
     "name": "stdout",
     "output_type": "stream",
     "text": [
      "<class '__main__.Circle'> <class 'type'>\n"
     ]
    },
    {
     "data": {
      "text/plain": [
       "(6.9, 149.57122623741006)"
      ]
     },
     "execution_count": 13,
     "metadata": {},
     "output_type": "execute_result"
    }
   ],
   "source": [
    "circle3 = circle1.from_diameter(13.8)\n",
    "circle3.radius, circle3.calculate_area()"
   ]
  },
  {
   "cell_type": "code",
   "execution_count": 14,
   "id": "d90e727f",
   "metadata": {},
   "outputs": [
    {
     "data": {
      "text/plain": [
       "(Ellipsis, Ellipsis, ellipsis, ellipsis)"
      ]
     },
     "execution_count": 14,
     "metadata": {},
     "output_type": "execute_result"
    }
   ],
   "source": [
    "Ellipsis, ..., type(...), type(Ellipsis)"
   ]
  },
  {
   "cell_type": "code",
   "execution_count": 15,
   "id": "a3d9455b",
   "metadata": {},
   "outputs": [
    {
     "data": {
      "text/plain": [
       "(NotImplemented, NotImplementedType)"
      ]
     },
     "execution_count": 15,
     "metadata": {},
     "output_type": "execute_result"
    }
   ],
   "source": [
    "NotImplemented, type(NotImplemented)"
   ]
  },
  {
   "cell_type": "code",
   "execution_count": 16,
   "id": "bd7a4c56",
   "metadata": {},
   "outputs": [
    {
     "data": {
      "text/plain": [
       "True"
      ]
     },
     "execution_count": 16,
     "metadata": {},
     "output_type": "execute_result"
    }
   ],
   "source": [
    "__debug__"
   ]
  },
  {
   "cell_type": "code",
   "execution_count": 17,
   "id": "ad22030b",
   "metadata": {},
   "outputs": [
    {
     "name": "stdout",
     "output_type": "stream",
     "text": [
      "True\n",
      "False\n"
     ]
    }
   ],
   "source": [
    "!python3 -c \"print(__debug__)\"; python3 -O -c \"print(__debug__)\""
   ]
  },
  {
   "cell_type": "code",
   "execution_count": 18,
   "id": "6f8d9f19",
   "metadata": {},
   "outputs": [
    {
     "name": "stdout",
     "output_type": "stream",
     "text": [
      "3.14159 2.71828 1.61803\n",
      "3.14159 2.71828 1.61803\n",
      "3.14 2.71828 1.61803\n"
     ]
    },
    {
     "ename": "AttributeError",
     "evalue": "Cannot modify constant values",
     "output_type": "error",
     "traceback": [
      "\u001b[0;31m---------------------------------------------------------------------------\u001b[0m",
      "\u001b[0;31mAttributeError\u001b[0m                            Traceback (most recent call last)",
      "Cell \u001b[0;32mIn[18], line 18\u001b[0m\n\u001b[1;32m     16\u001b[0m constants \u001b[38;5;241m=\u001b[39m Constants()\n\u001b[1;32m     17\u001b[0m \u001b[38;5;28mprint\u001b[39m(constants\u001b[38;5;241m.\u001b[39mPI, constants\u001b[38;5;241m.\u001b[39mE, constants\u001b[38;5;241m.\u001b[39mGOLDEN_RATIO)\n\u001b[0;32m---> 18\u001b[0m \u001b[43mconstants\u001b[49m\u001b[38;5;241;43m.\u001b[39;49m\u001b[43mPI\u001b[49m \u001b[38;5;241m=\u001b[39m \u001b[38;5;241m3.1415\u001b[39m\n",
      "Cell \u001b[0;32mIn[18], line 7\u001b[0m, in \u001b[0;36mConstants.__setattr__\u001b[0;34m(self, name, value)\u001b[0m\n\u001b[1;32m      6\u001b[0m \u001b[38;5;28;01mdef\u001b[39;00m\u001b[38;5;250m \u001b[39m\u001b[38;5;21m__setattr__\u001b[39m(\u001b[38;5;28mself\u001b[39m, name, value):\n\u001b[0;32m----> 7\u001b[0m     \u001b[38;5;28;01mraise\u001b[39;00m \u001b[38;5;167;01mAttributeError\u001b[39;00m(\u001b[38;5;124m\"\u001b[39m\u001b[38;5;124mCannot modify constant values\u001b[39m\u001b[38;5;124m\"\u001b[39m)\n",
      "\u001b[0;31mAttributeError\u001b[0m: Cannot modify constant values"
     ]
    }
   ],
   "source": [
    "class Constants:\n",
    "    PI = 3.14159\n",
    "    E = 2.71828\n",
    "    GOLDEN_RATIO = 1.61803\n",
    "\n",
    "    def __setattr__(self, name, value):\n",
    "        raise AttributeError(\"Cannot modify constant values\")\n",
    "\n",
    "    def __delattr__(self, name):\n",
    "        raise AttributeError(\"Cannot delete constant values\")\n",
    "    \n",
    "print(Constants.PI, Constants.E, Constants.GOLDEN_RATIO)\n",
    "true_constants = Constants()\n",
    "print(true_constants.PI, true_constants.E, true_constants.GOLDEN_RATIO)\n",
    "Constants.PI = 3.14\n",
    "constants = Constants()\n",
    "print(constants.PI, constants.E, constants.GOLDEN_RATIO)\n",
    "constants.PI = 3.1415"
   ]
  },
  {
   "cell_type": "code",
   "execution_count": 19,
   "id": "affb08a5",
   "metadata": {},
   "outputs": [
    {
     "ename": "AttributeError",
     "evalue": "Cannot delete constant values",
     "output_type": "error",
     "traceback": [
      "\u001b[0;31m---------------------------------------------------------------------------\u001b[0m",
      "\u001b[0;31mAttributeError\u001b[0m                            Traceback (most recent call last)",
      "Cell \u001b[0;32mIn[19], line 1\u001b[0m\n\u001b[0;32m----> 1\u001b[0m \u001b[38;5;28;01mdel\u001b[39;00m constants\u001b[38;5;241m.\u001b[39mPI\n",
      "Cell \u001b[0;32mIn[18], line 10\u001b[0m, in \u001b[0;36mConstants.__delattr__\u001b[0;34m(self, name)\u001b[0m\n\u001b[1;32m      9\u001b[0m \u001b[38;5;28;01mdef\u001b[39;00m\u001b[38;5;250m \u001b[39m\u001b[38;5;21m__delattr__\u001b[39m(\u001b[38;5;28mself\u001b[39m, name):\n\u001b[0;32m---> 10\u001b[0m     \u001b[38;5;28;01mraise\u001b[39;00m \u001b[38;5;167;01mAttributeError\u001b[39;00m(\u001b[38;5;124m\"\u001b[39m\u001b[38;5;124mCannot delete constant values\u001b[39m\u001b[38;5;124m\"\u001b[39m)\n",
      "\u001b[0;31mAttributeError\u001b[0m: Cannot delete constant values"
     ]
    }
   ],
   "source": [
    "del constants.PI"
   ]
  },
  {
   "cell_type": "code",
   "execution_count": 20,
   "id": "16889084",
   "metadata": {},
   "outputs": [
    {
     "name": "stdout",
     "output_type": "stream",
     "text": [
      "3.14159 2.71828 1.61803\n",
      "3.14159 2.71828 1.61803\n",
      "3.14 2.71828 1.61803\n"
     ]
    },
    {
     "ename": "AttributeError",
     "evalue": "'Constants' object attribute 'PI' is read-only",
     "output_type": "error",
     "traceback": [
      "\u001b[0;31m---------------------------------------------------------------------------\u001b[0m",
      "\u001b[0;31mAttributeError\u001b[0m                            Traceback (most recent call last)",
      "Cell \u001b[0;32mIn[20], line 13\u001b[0m\n\u001b[1;32m     11\u001b[0m constants \u001b[38;5;241m=\u001b[39m Constants()\n\u001b[1;32m     12\u001b[0m \u001b[38;5;28mprint\u001b[39m(constants\u001b[38;5;241m.\u001b[39mPI, constants\u001b[38;5;241m.\u001b[39mE, constants\u001b[38;5;241m.\u001b[39mGOLDEN_RATIO)\n\u001b[0;32m---> 13\u001b[0m \u001b[43mconstants\u001b[49m\u001b[38;5;241;43m.\u001b[39;49m\u001b[43mPI\u001b[49m \u001b[38;5;241m=\u001b[39m \u001b[38;5;241m3.1415\u001b[39m\n",
      "\u001b[0;31mAttributeError\u001b[0m: 'Constants' object attribute 'PI' is read-only"
     ]
    }
   ],
   "source": [
    "class Constants:\n",
    "    __slots__ = ()\n",
    "    PI = 3.14159\n",
    "    E = 2.71828\n",
    "    GOLDEN_RATIO = 1.61803\n",
    "    \n",
    "print(Constants.PI, Constants.E, Constants.GOLDEN_RATIO)\n",
    "true_constants = Constants()\n",
    "print(true_constants.PI, true_constants.E, true_constants.GOLDEN_RATIO)\n",
    "Constants.PI = 3.14\n",
    "constants = Constants()\n",
    "print(constants.PI, constants.E, constants.GOLDEN_RATIO)\n",
    "constants.PI = 3.1415"
   ]
  },
  {
   "cell_type": "code",
   "execution_count": 21,
   "id": "e0d21ff1",
   "metadata": {},
   "outputs": [
    {
     "ename": "AttributeError",
     "evalue": "'Constants' object attribute 'PI' is read-only",
     "output_type": "error",
     "traceback": [
      "\u001b[0;31m---------------------------------------------------------------------------\u001b[0m",
      "\u001b[0;31mAttributeError\u001b[0m                            Traceback (most recent call last)",
      "Cell \u001b[0;32mIn[21], line 1\u001b[0m\n\u001b[0;32m----> 1\u001b[0m \u001b[38;5;28;01mdel\u001b[39;00m constants\u001b[38;5;241m.\u001b[39mPI\n",
      "\u001b[0;31mAttributeError\u001b[0m: 'Constants' object attribute 'PI' is read-only"
     ]
    }
   ],
   "source": [
    "del constants.PI"
   ]
  },
  {
   "cell_type": "code",
   "execution_count": 22,
   "id": "e6b7d22f",
   "metadata": {},
   "outputs": [
    {
     "name": "stdout",
     "output_type": "stream",
     "text": [
      "<property object at 0x7991a239d670> <property object at 0x7991a239d5d0> <property object at 0x7991a239d580>\n",
      "3.14159 2.71828 1.61803\n",
      "3.14 2.71828 1.61803\n",
      "3.1415 2.71828 1.61803\n",
      "3.14 2.71828 1.61803\n"
     ]
    }
   ],
   "source": [
    "class Constants:\n",
    "    @property\n",
    "    def PI(self):\n",
    "        return 3.14159\n",
    "    @property\n",
    "    def E(self):\n",
    "        return 2.71828\n",
    "    @property\n",
    "    def GOLDEN_RATIO(self):\n",
    "        return 1.61803\n",
    "    \n",
    "print(Constants.PI, Constants.E, Constants.GOLDEN_RATIO)\n",
    "true_constants = Constants()\n",
    "print(true_constants.PI, true_constants.E, true_constants.GOLDEN_RATIO)\n",
    "Constants.PI = 3.14\n",
    "constants = Constants()\n",
    "print(constants.PI, constants.E, constants.GOLDEN_RATIO)\n",
    "constants.PI = 3.1415\n",
    "print(constants.PI, constants.E, constants.GOLDEN_RATIO)\n",
    "del constants.PI\n",
    "print(constants.PI, constants.E, constants.GOLDEN_RATIO)"
   ]
  },
  {
   "cell_type": "code",
   "execution_count": 23,
   "id": "20acbfc1",
   "metadata": {},
   "outputs": [
    {
     "name": "stdout",
     "output_type": "stream",
     "text": [
      "_tuplegetter(0, 'Alias for field number 0') _tuplegetter(1, 'Alias for field number 1') _tuplegetter(2, 'Alias for field number 2')\n",
      "3.14159 2.71828 1.61803\n",
      "3.14 _tuplegetter(1, 'Alias for field number 1') _tuplegetter(2, 'Alias for field number 2')\n",
      "3.14 2.71828 1.61803\n"
     ]
    },
    {
     "ename": "AttributeError",
     "evalue": "'CONSTANTS' object attribute 'PI' is read-only",
     "output_type": "error",
     "traceback": [
      "\u001b[0;31m---------------------------------------------------------------------------\u001b[0m",
      "\u001b[0;31mAttributeError\u001b[0m                            Traceback (most recent call last)",
      "Cell \u001b[0;32mIn[23], line 13\u001b[0m\n\u001b[1;32m     11\u001b[0m constants \u001b[38;5;241m=\u001b[39m CONSTANTS(\u001b[38;5;241m3.14159\u001b[39m, \u001b[38;5;241m2.71828\u001b[39m, \u001b[38;5;241m1.61803\u001b[39m)\n\u001b[1;32m     12\u001b[0m \u001b[38;5;28mprint\u001b[39m(constants\u001b[38;5;241m.\u001b[39mPI, constants\u001b[38;5;241m.\u001b[39mE, constants\u001b[38;5;241m.\u001b[39mGOLDEN_RATIO)\n\u001b[0;32m---> 13\u001b[0m \u001b[43mconstants\u001b[49m\u001b[38;5;241;43m.\u001b[39;49m\u001b[43mPI\u001b[49m \u001b[38;5;241m=\u001b[39m \u001b[38;5;241m3.1415\u001b[39m\n",
      "\u001b[0;31mAttributeError\u001b[0m: 'CONSTANTS' object attribute 'PI' is read-only"
     ]
    }
   ],
   "source": [
    "from collections import namedtuple\n",
    "\n",
    "CONSTANTS = namedtuple(\"CONSTANTS\", [\n",
    "    \"PI\", \"E\", \"GOLDEN_RATIO\"\n",
    "])\n",
    "print(CONSTANTS.PI, CONSTANTS.E, CONSTANTS.GOLDEN_RATIO)\n",
    "true_constants = CONSTANTS(3.14159, 2.71828, 1.61803)\n",
    "print(true_constants.PI, true_constants.E, true_constants.GOLDEN_RATIO)\n",
    "CONSTANTS.PI = 3.14\n",
    "print(CONSTANTS.PI, CONSTANTS.E, CONSTANTS.GOLDEN_RATIO)\n",
    "constants = CONSTANTS(3.14159, 2.71828, 1.61803)\n",
    "print(constants.PI, constants.E, constants.GOLDEN_RATIO)\n",
    "constants.PI = 3.1415"
   ]
  },
  {
   "cell_type": "code",
   "execution_count": 24,
   "id": "cd0f4a01",
   "metadata": {},
   "outputs": [
    {
     "ename": "AttributeError",
     "evalue": "'CONSTANTS' object attribute 'PI' is read-only",
     "output_type": "error",
     "traceback": [
      "\u001b[0;31m---------------------------------------------------------------------------\u001b[0m",
      "\u001b[0;31mAttributeError\u001b[0m                            Traceback (most recent call last)",
      "Cell \u001b[0;32mIn[24], line 1\u001b[0m\n\u001b[0;32m----> 1\u001b[0m \u001b[38;5;28;01mdel\u001b[39;00m constants\u001b[38;5;241m.\u001b[39mPI\n",
      "\u001b[0;31mAttributeError\u001b[0m: 'CONSTANTS' object attribute 'PI' is read-only"
     ]
    }
   ],
   "source": [
    "del constants.PI"
   ]
  },
  {
   "cell_type": "code",
   "execution_count": 25,
   "id": "d23bf475",
   "metadata": {},
   "outputs": [
    {
     "name": "stdout",
     "output_type": "stream",
     "text": [
      "3.14159 2.71828 1.61803\n",
      "3.14159 2.71828 1.61803\n",
      "3.14 2.71828 1.61803\n"
     ]
    },
    {
     "ename": "FrozenInstanceError",
     "evalue": "cannot assign to field 'PI'",
     "output_type": "error",
     "traceback": [
      "\u001b[0;31m---------------------------------------------------------------------------\u001b[0m",
      "\u001b[0;31mFrozenInstanceError\u001b[0m                       Traceback (most recent call last)",
      "Cell \u001b[0;32mIn[25], line 15\u001b[0m\n\u001b[1;32m     13\u001b[0m constants \u001b[38;5;241m=\u001b[39m Constants()\n\u001b[1;32m     14\u001b[0m \u001b[38;5;28mprint\u001b[39m(constants\u001b[38;5;241m.\u001b[39mPI, constants\u001b[38;5;241m.\u001b[39mE, constants\u001b[38;5;241m.\u001b[39mGOLDEN_RATIO)\n\u001b[0;32m---> 15\u001b[0m \u001b[43mconstants\u001b[49m\u001b[38;5;241;43m.\u001b[39;49m\u001b[43mPI\u001b[49m \u001b[38;5;241m=\u001b[39m \u001b[38;5;241m3.1415\u001b[39m\n",
      "File \u001b[0;32m<string>:4\u001b[0m, in \u001b[0;36m__setattr__\u001b[0;34m(self, name, value)\u001b[0m\n",
      "\u001b[0;31mFrozenInstanceError\u001b[0m: cannot assign to field 'PI'"
     ]
    }
   ],
   "source": [
    "from dataclasses import dataclass\n",
    "\n",
    "@dataclass(frozen=True)\n",
    "class Constants:\n",
    "    PI = 3.14159\n",
    "    E = 2.71828\n",
    "    GOLDEN_RATIO = 1.61803\n",
    "    \n",
    "print(Constants.PI, Constants.E, Constants.GOLDEN_RATIO)\n",
    "true_constants = Constants()\n",
    "print(true_constants.PI, true_constants.E, true_constants.GOLDEN_RATIO)\n",
    "Constants.PI = 3.14\n",
    "constants = Constants()\n",
    "print(constants.PI, constants.E, constants.GOLDEN_RATIO)\n",
    "constants.PI = 3.1415"
   ]
  },
  {
   "cell_type": "code",
   "execution_count": 26,
   "id": "5f2643bd",
   "metadata": {},
   "outputs": [
    {
     "ename": "FrozenInstanceError",
     "evalue": "cannot delete field 'PI'",
     "output_type": "error",
     "traceback": [
      "\u001b[0;31m---------------------------------------------------------------------------\u001b[0m",
      "\u001b[0;31mFrozenInstanceError\u001b[0m                       Traceback (most recent call last)",
      "Cell \u001b[0;32mIn[26], line 1\u001b[0m\n\u001b[0;32m----> 1\u001b[0m \u001b[38;5;28;01mdel\u001b[39;00m constants\u001b[38;5;241m.\u001b[39mPI\n",
      "File \u001b[0;32m<string>:4\u001b[0m, in \u001b[0;36m__delattr__\u001b[0;34m(self, name)\u001b[0m\n",
      "\u001b[0;31mFrozenInstanceError\u001b[0m: cannot delete field 'PI'"
     ]
    }
   ],
   "source": [
    "del constants.PI"
   ]
  },
  {
   "cell_type": "code",
   "execution_count": 27,
   "id": "bdceb8e2",
   "metadata": {},
   "outputs": [
    {
     "name": "stdout",
     "output_type": "stream",
     "text": [
      "Constants.PI Constants.E Constants.GOLDEN_RATIO\n",
      "3.14159 2.71828 1.61803\n"
     ]
    },
    {
     "ename": "AttributeError",
     "evalue": "can't set attribute",
     "output_type": "error",
     "traceback": [
      "\u001b[0;31m---------------------------------------------------------------------------\u001b[0m",
      "\u001b[0;31mAttributeError\u001b[0m                            Traceback (most recent call last)",
      "Cell \u001b[0;32mIn[27], line 10\u001b[0m\n\u001b[1;32m      8\u001b[0m \u001b[38;5;28mprint\u001b[39m(Constants\u001b[38;5;241m.\u001b[39mPI, Constants\u001b[38;5;241m.\u001b[39mE, Constants\u001b[38;5;241m.\u001b[39mGOLDEN_RATIO)\n\u001b[1;32m      9\u001b[0m \u001b[38;5;28mprint\u001b[39m(Constants\u001b[38;5;241m.\u001b[39mPI\u001b[38;5;241m.\u001b[39mvalue, Constants\u001b[38;5;241m.\u001b[39mE\u001b[38;5;241m.\u001b[39mvalue, Constants\u001b[38;5;241m.\u001b[39mGOLDEN_RATIO\u001b[38;5;241m.\u001b[39mvalue)\n\u001b[0;32m---> 10\u001b[0m \u001b[43mConstants\u001b[49m\u001b[38;5;241;43m.\u001b[39;49m\u001b[43mPI\u001b[49m\u001b[38;5;241;43m.\u001b[39;49m\u001b[43mvalue\u001b[49m \u001b[38;5;241m=\u001b[39m \u001b[38;5;241m3.14\u001b[39m\n",
      "File \u001b[0;32m/usr/lib/python3.10/types.py:187\u001b[0m, in \u001b[0;36mDynamicClassAttribute.__set__\u001b[0;34m(self, instance, value)\u001b[0m\n\u001b[1;32m    185\u001b[0m \u001b[38;5;28;01mdef\u001b[39;00m\u001b[38;5;250m \u001b[39m\u001b[38;5;21m__set__\u001b[39m(\u001b[38;5;28mself\u001b[39m, instance, value):\n\u001b[1;32m    186\u001b[0m     \u001b[38;5;28;01mif\u001b[39;00m \u001b[38;5;28mself\u001b[39m\u001b[38;5;241m.\u001b[39mfset \u001b[38;5;129;01mis\u001b[39;00m \u001b[38;5;28;01mNone\u001b[39;00m:\n\u001b[0;32m--> 187\u001b[0m         \u001b[38;5;28;01mraise\u001b[39;00m \u001b[38;5;167;01mAttributeError\u001b[39;00m(\u001b[38;5;124m\"\u001b[39m\u001b[38;5;124mcan\u001b[39m\u001b[38;5;124m'\u001b[39m\u001b[38;5;124mt set attribute\u001b[39m\u001b[38;5;124m\"\u001b[39m)\n\u001b[1;32m    188\u001b[0m     \u001b[38;5;28mself\u001b[39m\u001b[38;5;241m.\u001b[39mfset(instance, value)\n",
      "\u001b[0;31mAttributeError\u001b[0m: can't set attribute"
     ]
    }
   ],
   "source": [
    "from enum import Enum\n",
    "\n",
    "class Constants(Enum):\n",
    "    PI = 3.14159\n",
    "    E = 2.71828\n",
    "    GOLDEN_RATIO = 1.61803\n",
    "    \n",
    "print(Constants.PI, Constants.E, Constants.GOLDEN_RATIO)\n",
    "print(Constants.PI.value, Constants.E.value, Constants.GOLDEN_RATIO.value)\n",
    "Constants.PI.value = 3.14"
   ]
  },
  {
   "cell_type": "code",
   "execution_count": 29,
   "id": "dba05c68",
   "metadata": {},
   "outputs": [
    {
     "ename": "AttributeError",
     "evalue": "Constants: cannot delete Enum member.",
     "output_type": "error",
     "traceback": [
      "\u001b[0;31m---------------------------------------------------------------------------\u001b[0m",
      "\u001b[0;31mAttributeError\u001b[0m                            Traceback (most recent call last)",
      "Cell \u001b[0;32mIn[29], line 1\u001b[0m\n\u001b[0;32m----> 1\u001b[0m \u001b[38;5;28;01mdel\u001b[39;00m Constants\u001b[38;5;241m.\u001b[39mPI\n",
      "File \u001b[0;32m/usr/lib/python3.10/enum.py:414\u001b[0m, in \u001b[0;36mEnumMeta.__delattr__\u001b[0;34m(cls, attr)\u001b[0m\n\u001b[1;32m    410\u001b[0m \u001b[38;5;28;01mdef\u001b[39;00m\u001b[38;5;250m \u001b[39m\u001b[38;5;21m__delattr__\u001b[39m(\u001b[38;5;28mcls\u001b[39m, attr):\n\u001b[1;32m    411\u001b[0m     \u001b[38;5;66;03m# nicer error message when someone tries to delete an attribute\u001b[39;00m\n\u001b[1;32m    412\u001b[0m     \u001b[38;5;66;03m# (see issue19025).\u001b[39;00m\n\u001b[1;32m    413\u001b[0m     \u001b[38;5;28;01mif\u001b[39;00m attr \u001b[38;5;129;01min\u001b[39;00m \u001b[38;5;28mcls\u001b[39m\u001b[38;5;241m.\u001b[39m_member_map_:\n\u001b[0;32m--> 414\u001b[0m         \u001b[38;5;28;01mraise\u001b[39;00m \u001b[38;5;167;01mAttributeError\u001b[39;00m(\u001b[38;5;124m\"\u001b[39m\u001b[38;5;132;01m%s\u001b[39;00m\u001b[38;5;124m: cannot delete Enum member.\u001b[39m\u001b[38;5;124m\"\u001b[39m \u001b[38;5;241m%\u001b[39m \u001b[38;5;28mcls\u001b[39m\u001b[38;5;241m.\u001b[39m\u001b[38;5;18m__name__\u001b[39m)\n\u001b[1;32m    415\u001b[0m     \u001b[38;5;28msuper\u001b[39m()\u001b[38;5;241m.\u001b[39m\u001b[38;5;21m__delattr__\u001b[39m(attr)\n",
      "\u001b[0;31mAttributeError\u001b[0m: Constants: cannot delete Enum member."
     ]
    }
   ],
   "source": [
    "del Constants.PI"
   ]
  },
  {
   "cell_type": "code",
   "execution_count": 28,
   "id": "d956647d",
   "metadata": {},
   "outputs": [
    {
     "name": "stdout",
     "output_type": "stream",
     "text": [
      "<enum 'Constants'>\n",
      "(<Constants.PI: 3.14159>, <Constants.E: 2.71828>, <Constants.GOLDEN_RATIO: 1.61803>)\n",
      "PI 3.14159 Constants.PI 3.14159\n"
     ]
    }
   ],
   "source": [
    "print(Constants)\n",
    "print(tuple(Constants))\n",
    "print(Constants.PI.name, Constants.PI.value, Constants(3.14159), Constants[\"PI\"].value)"
   ]
  },
  {
   "cell_type": "code",
   "execution_count": null,
   "id": "6628b8f5",
   "metadata": {},
   "outputs": [],
   "source": []
  },
  {
   "cell_type": "code",
   "execution_count": null,
   "id": "5d9960f7",
   "metadata": {},
   "outputs": [],
   "source": []
  },
  {
   "cell_type": "code",
   "execution_count": null,
   "id": "c41165fb",
   "metadata": {},
   "outputs": [],
   "source": []
  }
 ],
 "metadata": {
  "kernelspec": {
   "display_name": ".venv",
   "language": "python",
   "name": "python3"
  },
  "language_info": {
   "codemirror_mode": {
    "name": "ipython",
    "version": 3
   },
   "file_extension": ".py",
   "mimetype": "text/x-python",
   "name": "python",
   "nbconvert_exporter": "python",
   "pygments_lexer": "ipython3",
   "version": "3.10.18"
  }
 },
 "nbformat": 4,
 "nbformat_minor": 5
}
